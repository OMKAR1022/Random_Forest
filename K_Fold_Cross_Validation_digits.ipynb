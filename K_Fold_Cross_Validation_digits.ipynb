{
 "cells": [
  {
   "cell_type": "code",
   "execution_count": 41,
   "id": "84a16fa4-5730-4909-93a6-b219a7ce7abc",
   "metadata": {},
   "outputs": [],
   "source": [
    "import pandas as pd\n",
    "from sklearn.model_selection import train_test_split\n",
    "from sklearn.svm import SVC\n",
    "from sklearn.ensemble import RandomForestClassifier\n",
    "from sklearn.linear_model import LogisticRegression \n",
    "import numpy as np"
   ]
  },
  {
   "cell_type": "code",
   "execution_count": 20,
   "id": "f84b6b42-f760-4463-8810-c9825befb43d",
   "metadata": {},
   "outputs": [],
   "source": [
    "from sklearn.datasets import load_digits"
   ]
  },
  {
   "cell_type": "code",
   "execution_count": 21,
   "id": "df9d6343-bd07-42ea-b613-77570f4b99ed",
   "metadata": {},
   "outputs": [],
   "source": [
    "digits= load_digits()"
   ]
  },
  {
   "cell_type": "code",
   "execution_count": 22,
   "id": "4bd9741c-793c-4ed6-a6cc-62aff61b1090",
   "metadata": {},
   "outputs": [],
   "source": [
    "X_train,X_test,y_train,y_test = train_test_split(digits.data,digits.target,test_size=0.2)"
   ]
  },
  {
   "cell_type": "code",
   "execution_count": 23,
   "id": "5edf2a8b-4c21-454a-bed6-079b34deb364",
   "metadata": {},
   "outputs": [
    {
     "data": {
      "text/plain": [
       "KFold(n_splits=3, random_state=None, shuffle=False)"
      ]
     },
     "execution_count": 23,
     "metadata": {},
     "output_type": "execute_result"
    }
   ],
   "source": [
    "from sklearn.model_selection import KFold\n",
    "kf = KFold(n_splits=3)\n",
    "kf"
   ]
  },
  {
   "cell_type": "code",
   "execution_count": 24,
   "id": "a9831bb5-4ce6-4af9-bda7-790621b285de",
   "metadata": {},
   "outputs": [],
   "source": [
    "from sklearn.model_selection import StratifiedKFold\n",
    "folds = StratifiedKFold(n_splits=3)"
   ]
  },
  {
   "cell_type": "code",
   "execution_count": 25,
   "id": "2af2fcf7-88ef-4003-9e10-45119a775972",
   "metadata": {},
   "outputs": [],
   "source": [
    "def get_score(model,X_train,X_test,y_train,y_test):\n",
    "    model.fit(X_train,y_train)\n",
    "    return model.score(X_test,y_test)"
   ]
  },
  {
   "cell_type": "code",
   "execution_count": 26,
   "id": "00a1618b-cd79-4604-afc5-089171e424f1",
   "metadata": {},
   "outputs": [],
   "source": [
    "from sklearn.model_selection import cross_val_score"
   ]
  },
  {
   "cell_type": "code",
   "execution_count": 51,
   "id": "31d13a12-092d-483a-9cdc-a34666796152",
   "metadata": {},
   "outputs": [],
   "source": [
    "lg =cross_val_score(LogisticRegression(\n",
    "     penalty='l2',\n",
    "    dual=False,\n",
    "    tol=0.0001,\n",
    "    C=1.0,\n",
    "    fit_intercept=True,\n",
    "    intercept_scaling=1,\n",
    "    class_weight=None,\n",
    "    random_state=None,\n",
    "    solver='lbfgs',\n",
    "    max_iter=550,\n",
    "    multi_class='deprecated',\n",
    "    verbose=0,\n",
    "    warm_start=False,\n",
    "    n_jobs=None,\n",
    "    l1_ratio=None,\n",
    "),digits.data,digits.target,cv=5)"
   ]
  },
  {
   "cell_type": "code",
   "execution_count": 52,
   "id": "133cf878-0ac7-4163-839f-2b9bc7131a3d",
   "metadata": {},
   "outputs": [
    {
     "data": {
      "text/plain": [
       "array([0.92222222, 0.86944444, 0.94150418, 0.93871866, 0.89693593])"
      ]
     },
     "execution_count": 52,
     "metadata": {},
     "output_type": "execute_result"
    }
   ],
   "source": [
    "lg"
   ]
  },
  {
   "cell_type": "code",
   "execution_count": 53,
   "id": "1aec3f89-2643-4435-a73c-885abbc708f7",
   "metadata": {},
   "outputs": [
    {
     "data": {
      "text/plain": [
       "np.float64(0.9137650882079852)"
      ]
     },
     "execution_count": 53,
     "metadata": {},
     "output_type": "execute_result"
    }
   ],
   "source": [
    "np.average(lg)"
   ]
  },
  {
   "cell_type": "code",
   "execution_count": 38,
   "id": "df87ae74-97be-4126-a61e-35bc7fbe1d0b",
   "metadata": {},
   "outputs": [],
   "source": [
    "svm =cross_val_score(SVC(),digits.data,digits.target,cv=5)"
   ]
  },
  {
   "cell_type": "code",
   "execution_count": 39,
   "id": "60a273f1-41de-43de-ae54-1c78ddb5298f",
   "metadata": {},
   "outputs": [
    {
     "data": {
      "text/plain": [
       "array([0.96111111, 0.94444444, 0.98328691, 0.98885794, 0.93871866])"
      ]
     },
     "execution_count": 39,
     "metadata": {},
     "output_type": "execute_result"
    }
   ],
   "source": [
    "svm"
   ]
  },
  {
   "cell_type": "code",
   "execution_count": 40,
   "id": "fde556dd-2c8d-4e7e-947e-7288727a757a",
   "metadata": {},
   "outputs": [
    {
     "data": {
      "text/plain": [
       "np.float64(0.9632838130609718)"
      ]
     },
     "execution_count": 40,
     "metadata": {},
     "output_type": "execute_result"
    }
   ],
   "source": [
    "np.average(svm)"
   ]
  },
  {
   "cell_type": "code",
   "execution_count": 48,
   "id": "6242d516-b6b2-44fa-995a-add888b9cecd",
   "metadata": {},
   "outputs": [],
   "source": [
    "rf =cross_val_score(RandomForestClassifier(n_estimators=50),digits.data,digits.target,cv=5)"
   ]
  },
  {
   "cell_type": "code",
   "execution_count": 49,
   "id": "a277cfda-ac01-4158-a30d-b6cc35ca29c1",
   "metadata": {},
   "outputs": [
    {
     "data": {
      "text/plain": [
       "array([0.92777778, 0.90555556, 0.96100279, 0.9637883 , 0.9275766 ])"
      ]
     },
     "execution_count": 49,
     "metadata": {},
     "output_type": "execute_result"
    }
   ],
   "source": [
    "rf"
   ]
  },
  {
   "cell_type": "code",
   "execution_count": 50,
   "id": "3d01794e-f7a4-49ef-b06f-30c4e17acade",
   "metadata": {},
   "outputs": [
    {
     "data": {
      "text/plain": [
       "np.float64(0.9371402042711235)"
      ]
     },
     "execution_count": 50,
     "metadata": {},
     "output_type": "execute_result"
    }
   ],
   "source": [
    "np.average(rf)"
   ]
  },
  {
   "cell_type": "code",
   "execution_count": null,
   "id": "78a4dc5e-a912-49d5-a041-bf0b1ef42784",
   "metadata": {},
   "outputs": [],
   "source": []
  }
 ],
 "metadata": {
  "kernelspec": {
   "display_name": "Python 3 (ipykernel)",
   "language": "python",
   "name": "python3"
  },
  "language_info": {
   "codemirror_mode": {
    "name": "ipython",
    "version": 3
   },
   "file_extension": ".py",
   "mimetype": "text/x-python",
   "name": "python",
   "nbconvert_exporter": "python",
   "pygments_lexer": "ipython3",
   "version": "3.12.6"
  }
 },
 "nbformat": 4,
 "nbformat_minor": 5
}
